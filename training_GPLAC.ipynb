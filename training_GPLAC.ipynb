{
 "cells": [
  {
   "cell_type": "code",
   "execution_count": 1,
   "metadata": {},
   "outputs": [
    {
     "name": "stderr",
     "output_type": "stream",
     "text": [
      "Using TensorFlow backend.\n"
     ]
    }
   ],
   "source": [
    "from keras import backend as K\n",
    "import numpy as np\n",
    "\n",
    "def softmax2d(x):\n",
    "    # Todo: figure out why we have to save x.shape as a tuple instead of using it directly\n",
    "    # using it directly causes a keras problem\n",
    "\n",
    "    old_shape=(-1,int(x.shape[1]),int(x.shape[2]),int(x.shape[3]))\n",
    "    new_shape=(-1,1,int(x.shape[1])*int(x.shape[2]),old_shape[3])\n",
    "    nsx = K.reshape(x,new_shape)\n",
    "    e = K.exp(nsx - K.max(nsx, axis=-2, keepdims=True))\n",
    "    s = K.sum(e, axis=-2, keepdims=True)\n",
    "    ns = e / s\n",
    "    ex = K.reshape(ns, old_shape)\n",
    "    return ex\n",
    "\n",
    "\n",
    "# returns x,y coordinates[0-1) of maximum value for each channel\n",
    "# input should pass through softmax2d before input to this funciton\n",
    "def softargmax(x):\n",
    "    xc = K.variable(np.arange(int(x.shape[1]))/(int(x.shape[1])-1))\n",
    "    x1 = K.variable(np.ones([x.shape[1]]))\n",
    "    yc = K.variable(np.arange(int(x.shape[2]))/(int(x.shape[2])-1))\n",
    "    y1 = K.variable(np.ones([x.shape[2]]))\n",
    "    xx = K.dot(yc, x)\n",
    "    xx = K.dot(x1, xx)\n",
    "    xy = K.dot(y1, x)\n",
    "    xy = K.dot(xc, xy)\n",
    "    nc=K.stack([xx,xy],axis=-1)\n",
    "    return nc"
   ]
  },
  {
   "cell_type": "code",
   "execution_count": 13,
   "metadata": {
    "scrolled": true
   },
   "outputs": [
    {
     "name": "stdout",
     "output_type": "stream",
     "text": [
      "____________________________________________________________________________________________________\n",
      "Layer (type)                     Output Shape          Param #     Connected to                     \n",
      "====================================================================================================\n",
      "image_robot_input (InputLayer)   (None, 160, 320, 3)   0                                            \n",
      "____________________________________________________________________________________________________\n",
      "feature_model (Model)            (None, 32)            71824       image_classifier_input[0][0]     \n",
      "                                                                   image_robot_input[0][0]          \n",
      "____________________________________________________________________________________________________\n",
      "position_model_input (InputLayer (None, 2)             0                                            \n",
      "____________________________________________________________________________________________________\n",
      "image_classifier_input (InputLay (None, 160, 320, 3)   0                                            \n",
      "____________________________________________________________________________________________________\n",
      "concatenate_3 (Concatenate)      (None, 34)            0           feature_model[2][0]              \n",
      "                                                                   position_model_input[0][0]       \n",
      "____________________________________________________________________________________________________\n",
      "robot_dense1 (Dense)             (None, 16)            560         concatenate_3[0][0]              \n",
      "____________________________________________________________________________________________________\n",
      "classifier_dense1 (Dense)        (None, 16)            528         feature_model[1][0]              \n",
      "____________________________________________________________________________________________________\n",
      "robot_dense2 (Dense)             (None, 8)             136         robot_dense1[0][0]               \n",
      "____________________________________________________________________________________________________\n",
      "classifier_dense2 (Dense)        (None, 8)             136         classifier_dense1[0][0]          \n",
      "____________________________________________________________________________________________________\n",
      "robot_output (Dense)             (None, 1)             9           robot_dense2[0][0]               \n",
      "____________________________________________________________________________________________________\n",
      "classifier_output (Dense)        (None, 2)             18          classifier_dense2[0][0]          \n",
      "====================================================================================================\n",
      "Total params: 73,211\n",
      "Trainable params: 72,827\n",
      "Non-trainable params: 384\n",
      "____________________________________________________________________________________________________\n"
     ]
    }
   ],
   "source": [
    "from keras.layers import Dense,Input,BatchNormalization,Dropout,Conv2D,AvgPool2D,Flatten,Lambda,Concatenate\n",
    "from keras.models import Model\n",
    "import keras\n",
    "from keras.applications.vgg16 import VGG16\n",
    "\n",
    "commonkwargs = {\"activation\": 'relu','padding': 'valid'}\n",
    "height = 160\n",
    "width = 320\n",
    "image_size = [width, height]\n",
    "classes = 2\n",
    "\n",
    "#three input layers\n",
    "img_robot_input = Input(shape=(height, width, 3), name='image_robot_input')\n",
    "img_classifier_input = Input(shape=(height, width, 3), name='image_classifier_input')\n",
    "pos_input = Input(shape=(2,), name='position_model_input')\n",
    "img_input = Input(shape=(height, width, 3), name='image_input')\n",
    "\n",
    "#conv net and attention layers\n",
    "x=Conv2D(64, (3,3), strides=(2, 2), **commonkwargs, name='block1_conv1')(img_input)\n",
    "x=BatchNormalization(name='batch_norm1')(x)\n",
    "x=Conv2D(64, (3,3), strides=(1, 1), **commonkwargs, name='block1_conv2')(x)\n",
    "x=BatchNormalization(name='batch_norm2')(x)\n",
    "x=Conv2D(32, (3,3), strides=(1, 1), **commonkwargs, name='block2_conv1')(x)\n",
    "x=BatchNormalization(name='batch_norm3')(x)\n",
    "x=Conv2D(32, (3,3), strides=(1, 1), **commonkwargs, name='block2_conv2')(x)\n",
    "x=BatchNormalization(name='batch_norm4')(x)\n",
    "x=Conv2D(16, (3,3), strides=(1, 1), **commonkwargs, name='block3_conv1')(x)\n",
    "x = Lambda(softmax2d, name='image_softmax2d')(x)\n",
    "x = Dropout(.25)(x)\n",
    "x = Lambda(softargmax, name=\"expected_feature_location\")(x)\n",
    "feature_layer = Flatten(name='flattend_feature')(x)\n",
    "sub_model = Model(img_input, feature_layer, name='feature_model')\n",
    "sub_model.get_layer('block1_conv1').set_weights(VGG16(weights='imagenet', \n",
    "                                                      include_top=False).get_layer('block1_conv1').get_weights())\n",
    "\n",
    "#classifier layers\n",
    "classifier_dense1 = Dense(16, activation='relu', name='classifier_dense1')(sub_model(img_classifier_input))\n",
    "classifier_dense2 = Dense(8, activation='relu', name='classifier_dense2')(classifier_dense1)\n",
    "classifier_output = Dense(classes, activation='softmax', name='classifier_output')(classifier_dense2)\n",
    "\n",
    "#robot layers\n",
    "robot_dense1 = Dense(16, activation='relu', name='robot_dense1')(keras.layers.concatenate([sub_model(img_robot_input), pos_input]))\n",
    "robot_dense2 = Dense(8, activation='relu', name='robot_dense2')(robot_dense1)\n",
    "robot_output = Dense(1, activation='linear', name='robot_output')(robot_dense2)\n",
    "\n",
    "model = Model([img_robot_input, pos_input, img_classifier_input], [robot_output, classifier_output])\n",
    "model.compile(optimizer='adam', lr=3e-4, loss={'robot_output': 'mse', 'classifier_output': 'categorical_crossentropy'}, \n",
    "              loss_weights={'robot_output': 1, 'classifier_output': 0.5}, metrics=['accuracy'])\n",
    "model.summary()"
   ]
  },
  {
   "cell_type": "code",
   "execution_count": 15,
   "metadata": {},
   "outputs": [],
   "source": [
    "import pydot, graphviz\n",
    "from keras.utils import plot_model\n",
    "plot_model(model, to_file='model.png')"
   ]
  },
  {
   "cell_type": "code",
   "execution_count": null,
   "metadata": {
    "collapsed": true
   },
   "outputs": [],
   "source": []
  }
 ],
 "metadata": {
  "kernelspec": {
   "display_name": "Python 3",
   "language": "python",
   "name": "python3"
  },
  "language_info": {
   "codemirror_mode": {
    "name": "ipython",
    "version": 3
   },
   "file_extension": ".py",
   "mimetype": "text/x-python",
   "name": "python",
   "nbconvert_exporter": "python",
   "pygments_lexer": "ipython3",
   "version": "3.6.2"
  }
 },
 "nbformat": 4,
 "nbformat_minor": 2
}
